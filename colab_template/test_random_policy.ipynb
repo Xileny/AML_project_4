{
  "nbformat": 4,
  "nbformat_minor": 0,
  "metadata": {
    "colab": {
      "provenance": []
    },
    "kernelspec": {
      "name": "python3",
      "display_name": "Python 3"
    },
    "language_info": {
      "name": "python"
    }
  },
  "cells": [
    {
      "cell_type": "markdown",
      "source": [
        "Install and load all dependencies (first time only) \\\n",
        "NOTE: you may need to restart the runtime afterwards (CTRL+M .)."
      ],
      "metadata": {
        "id": "Siz3Hiq1JUZ1"
      }
    },
    {
      "cell_type": "code",
      "execution_count": null,
      "metadata": {
        "id": "AW6XT0jSJI8e"
      },
      "outputs": [],
      "source": [
        "!apt-get install -y \\\n",
        "    libgl1-mesa-dev \\\n",
        "    libgl1-mesa-glx \\\n",
        "    libglew-dev \\\n",
        "    libosmesa6-dev \\\n",
        "    software-properties-common\n",
        "\n",
        "!apt-get install -y patchelf\n",
        "\n",
        "!pip install gym\n",
        "!pip install free-mujoco-py"
      ]
    },
    {
      "cell_type": "markdown",
      "source": [
        "Set up the custom Hopper environment and provided util functions\n",
        "\n",
        "\n",
        "\n",
        "1.   Upload `custom_hopper.zip` to the current session's file storage\n",
        "2.   Un-zip it by running cell below\n"
      ],
      "metadata": {
        "id": "gwIRXGd5K3xJ"
      }
    },
    {
      "cell_type": "code",
      "source": [
        "!unzip custom_hopper.zip"
      ],
      "metadata": {
        "id": "T9WsofDVLaCC"
      },
      "execution_count": null,
      "outputs": []
    },
    {
      "cell_type": "markdown",
      "source": [
        "\n",
        "\n",
        "---\n",
        "\n"
      ],
      "metadata": {
        "id": "7pJC_JevLf1f"
      }
    },
    {
      "cell_type": "markdown",
      "source": [
        "\n",
        "**Test a random policy on the Gymnasium Hopper environment**\n",
        "\n",
        "\\\n",
        "\n",
        "\n",
        "\n",
        "Play around with this code to get familiar with the\n",
        "Hopper environment.\n",
        "\n",
        "For example, what happens if you don't reset the environment\n",
        "even after the episode is over?\n",
        "When exactly is the episode over?\n",
        "What is an action here?"
      ],
      "metadata": {
        "id": "W4NsuF6pJPVJ"
      }
    },
    {
      "cell_type": "code",
      "source": [
        "import gym\n",
        "from env.custom_hopper import *"
      ],
      "metadata": {
        "id": "uTYmUufrJTNl"
      },
      "execution_count": null,
      "outputs": []
    },
    {
      "cell_type": "code",
      "source": [
        "# env = gym.make('CustomHopper-source-v0')  # [2.53429174 3.92699082 2.71433605 5.0893801 ]\n",
        "# env = gym.make('CustomHopper-target-v0')  # [3.53429174 3.92699082 2.71433605 5.0893801 ] \n",
        "env = gym.make('CustomHopper-source-v0')\n",
        "\n",
        "print('State space:', env.observation_space)  # state-space\n",
        "print('Action space:', env.action_space)  # action-space\n",
        "print('Dynamics parameters:', env.get_parameters())  # masses of each link of the Hopper"
      ],
      "metadata": {
        "id": "QcCfCGg-Jyc3"
      },
      "execution_count": null,
      "outputs": []
    },
    {
      "cell_type": "code",
      "source": [
        "n_episodes = 5\n",
        "\n",
        "for episode in range(n_episodes):\n",
        "  done = False\n",
        "  observation = env.reset()\t # Reset environment to initial state\n",
        "\n",
        "  while not done:  # Until the episode is over\n",
        "\n",
        "    action = env.action_space.sample()\t# Sample random action\n",
        "  \n",
        "    observation, reward, done, info = env.step(action)\t# Step the simulator to the next timestep\n",
        "\n",
        "    \"\"\"Step 4: vision-based\n",
        "    img_state = env.render(mode=\"rgb_array\", width=224, height=224)\n",
        "    \"\"\""
      ],
      "metadata": {
        "id": "DT1oXr8HJ05h"
      },
      "execution_count": 7,
      "outputs": []
    }
  ]
}